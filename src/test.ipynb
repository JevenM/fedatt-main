{
 "cells": [
  {
   "cell_type": "code",
   "execution_count": 1,
   "metadata": {},
   "outputs": [
    {
     "name": "stdout",
     "output_type": "stream",
     "text": [
      "原始数据： tensor([ 0.1000, 12.0000, 13.0000, 14.0000,  0.1500])\n",
      "归一化后的数据： tensor([0.0044, 0.5319, 0.5762, 0.6205, 0.0066])\n"
     ]
    },
    {
     "data": {
      "text/plain": [
       "tensor(7.0873)"
      ]
     },
     "execution_count": 1,
     "metadata": {},
     "output_type": "execute_result"
    }
   ],
   "source": [
    "import torch\n",
    "import torch.nn.functional as F\n",
    "\n",
    "# 假设 data 是你的数据，转换为 PyTorch 的 Tensor 类型\n",
    "# data = torch.tensor([10.0, 2.0, 3.0, 4.0, 0.50])\n",
    "# data = torch.tensor([0.10, 0.12, 0.13, 0.14, 0.15])\n",
    "data = torch.tensor([0.10, 12, 13, 14, 0.15])\n",
    "\n",
    "# 使用 normalize 函数进行归一化\n",
    "normalized_data = F.normalize(data, p=2, dim=0)\n",
    "\n",
    "print(\"原始数据：\", data)\n",
    "print(\"归一化后的数据：\", normalized_data)\n",
    "\n",
    "std = torch.std(data)\n",
    "std"
   ]
  },
  {
   "cell_type": "code",
   "execution_count": 2,
   "metadata": {},
   "outputs": [
    {
     "name": "stdout",
     "output_type": "stream",
     "text": [
      "tensor(7.8500)\n",
      "tensor([0.2708, 0.1598, 0.1529, 0.1463, 0.2702])\n",
      "tensor(0.1411)\n"
     ]
    },
    {
     "name": "stderr",
     "output_type": "stream",
     "text": [
      "C:\\Users\\maowenjie\\AppData\\Local\\Temp\\ipykernel_63860\\2827201732.py:5: UserWarning: Implicit dimension choice for softmax has been deprecated. Change the call to include dim=X as an argument.\n",
      "  print(F.softmax(data2))\n",
      "C:\\Users\\maowenjie\\AppData\\Local\\Temp\\ipykernel_63860\\2827201732.py:8: UserWarning: Implicit dimension choice for softmax has been deprecated. Change the call to include dim=X as an argument.\n",
      "  F.softmax(data2/ss)\n"
     ]
    },
    {
     "data": {
      "text/plain": [
       "tensor([0.4906, 0.0117, 0.0085, 0.0062, 0.4830])"
      ]
     },
     "execution_count": 2,
     "metadata": {},
     "output_type": "execute_result"
    }
   ],
   "source": [
    "import torch\n",
    "mean = torch.mean(data)\n",
    "print(mean)\n",
    "data2 = 1-normalized_data\n",
    "print(F.softmax(data2))\n",
    "ss = 1/std\n",
    "print(ss)\n",
    "F.softmax(data2/ss)"
   ]
  },
  {
   "cell_type": "code",
   "execution_count": 3,
   "metadata": {},
   "outputs": [
    {
     "data": {
      "text/plain": [
       "tensor([4.4647e-12, 2.0226e-02, 1.3102e-01, 8.4875e-01, 4.9019e-12])"
      ]
     },
     "execution_count": 3,
     "metadata": {},
     "output_type": "execute_result"
    }
   ],
   "source": [
    "std_ = F.sigmoid(ss)\n",
    "F.softmax(data/std_, dim=0)"
   ]
  },
  {
   "cell_type": "code",
   "execution_count": 3,
   "metadata": {},
   "outputs": [
    {
     "data": {
      "text/plain": [
       "tensor([[ 0.3067, -0.3329,  2.0159,  0.2786],\n",
       "        [-0.4695, -0.3429,  3.0043, -0.6751],\n",
       "        [-1.6438,  1.4289,  0.7270, -0.1601],\n",
       "        [-0.9893, -2.4254,  0.8428,  1.8022],\n",
       "        [ 0.7588,  0.0626, -0.6226, -0.3350]])"
      ]
     },
     "execution_count": 3,
     "metadata": {},
     "output_type": "execute_result"
    }
   ],
   "source": [
    "import torch\n",
    "torch.randn([10 // 2, 4]) * 1"
   ]
  }
 ],
 "metadata": {
  "kernelspec": {
   "display_name": "pytorch-gpu",
   "language": "python",
   "name": "python3"
  },
  "language_info": {
   "codemirror_mode": {
    "name": "ipython",
    "version": 3
   },
   "file_extension": ".py",
   "mimetype": "text/x-python",
   "name": "python",
   "nbconvert_exporter": "python",
   "pygments_lexer": "ipython3",
   "version": "3.8.18"
  }
 },
 "nbformat": 4,
 "nbformat_minor": 2
}
